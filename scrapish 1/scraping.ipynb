{
 "cells": [
  {
   "cell_type": "code",
   "execution_count": 1,
   "id": "5b4804f6-b7df-4cbb-9cf7-5478157de683",
   "metadata": {},
   "outputs": [],
   "source": [
    "from selenium import webdriver\n",
    "from selenium.webdriver.common.by import By"
   ]
  },
  {
   "cell_type": "code",
   "execution_count": 2,
   "id": "bdc650c6-33c6-4219-9539-e132ae27d6ff",
   "metadata": {},
   "outputs": [],
   "source": [
    "import pandas as pd\n",
    "import re"
   ]
  },
  {
   "cell_type": "code",
   "execution_count": 3,
   "id": "6c081d5e-e759-4679-b914-b613ee64125e",
   "metadata": {},
   "outputs": [],
   "source": [
    "browser = webdriver.Chrome()\n",
    "browser.get('https://linkedin.com')"
   ]
  },
  {
   "cell_type": "code",
   "execution_count": 4,
   "id": "d3eba5f2-336a-4019-9cf4-24d353a8b96e",
   "metadata": {},
   "outputs": [],
   "source": [
    "username=browser.find_element(By.ID, \"session_key\")\n",
    "username.send_keys(\"email\")\n",
    "password=browser.find_element(By.ID, \"session_password\")\n",
    "password.send_keys(\"pwd\")"
   ]
  },
  {
   "cell_type": "code",
   "execution_count": 5,
   "id": "7e82ea2f-8942-41ba-bdb5-ced96b5732a6",
   "metadata": {},
   "outputs": [],
   "source": [
    "login_button=browser.find_element(By.CLASS_NAME, \"sign-in-form__submit-btn--full-width\")\n",
    "login_button.click()"
   ]
  },
  {
   "cell_type": "code",
   "execution_count": 6,
   "id": "aa077a47-2e55-4c1f-b6ee-180346e53513",
   "metadata": {},
   "outputs": [],
   "source": [
    "browser.get(\"https://www.linkedin.com/jobs/collections/recommended/\")\n",
    "num=browser.find_element(By.TAG_NAME, \"small\")\n",
    "num = int(num.text.split()[0])\n",
    "\n",
    "\n"
   ]
  },
  {
   "cell_type": "code",
   "execution_count": null,
   "id": "47dcb669-4301-45e8-b439-3ab76127c510",
   "metadata": {},
   "outputs": [],
   "source": []
  },
  {
   "cell_type": "code",
   "execution_count": 7,
   "id": "fbda226f-8ce0-46ac-b25c-c9d80ad7b107",
   "metadata": {},
   "outputs": [
    {
     "ename": "ElementClickInterceptedException",
     "evalue": "Message: element click intercepted: Element <span class=\"artdeco-button__text\">...</span> is not clickable at point (96, 24). Other element would receive the click: <input id=\"jobs-search-box-keyword-id-ember144\" class=\"jobs-search-box__text-input jobs-search-box__keyboard-text-input\" autocomplete=\"organization-title\" spellcheck=\"false\" role=\"combobox\" aria-autocomplete=\"list\" aria-label=\"Search by title, skill, or company\" aria-activedescendant=\"\" aria-expanded=\"false\" type=\"text\">\n  (Session info: chrome=120.0.6099.225)\nStacktrace:\n\tGetHandleVerifier [0x00007FF766E32142+3514994]\n\t(No symbol) [0x00007FF766A50CE2]\n\t(No symbol) [0x00007FF7668F76AA]\n\t(No symbol) [0x00007FF7669488F3]\n\t(No symbol) [0x00007FF7669468ED]\n\t(No symbol) [0x00007FF7669440EC]\n\t(No symbol) [0x00007FF766942EA5]\n\t(No symbol) [0x00007FF766936A0F]\n\t(No symbol) [0x00007FF766965FEA]\n\t(No symbol) [0x00007FF7669363B6]\n\t(No symbol) [0x00007FF766966490]\n\t(No symbol) [0x00007FF7669828F6]\n\t(No symbol) [0x00007FF766965D93]\n\t(No symbol) [0x00007FF766934BDC]\n\t(No symbol) [0x00007FF766935C64]\n\tGetHandleVerifier [0x00007FF766E5E16B+3695259]\n\tGetHandleVerifier [0x00007FF766EB6737+4057191]\n\tGetHandleVerifier [0x00007FF766EAE4E3+4023827]\n\tGetHandleVerifier [0x00007FF766B804F9+689705]\n\t(No symbol) [0x00007FF766A5C048]\n\t(No symbol) [0x00007FF766A58044]\n\t(No symbol) [0x00007FF766A581C9]\n\t(No symbol) [0x00007FF766A488C4]\n\tBaseThreadInitThunk [0x00007FFC4DB8257D+29]\n\tRtlUserThreadStart [0x00007FFC4FB8AA58+40]\n",
     "output_type": "error",
     "traceback": [
      "\u001b[1;31m---------------------------------------------------------------------------\u001b[0m",
      "\u001b[1;31mElementClickInterceptedException\u001b[0m          Traceback (most recent call last)",
      "Cell \u001b[1;32mIn[7], line 15\u001b[0m\n\u001b[0;32m     13\u001b[0m browser\u001b[38;5;241m.\u001b[39mimplicitly_wait(\u001b[38;5;241m3\u001b[39m)\n\u001b[0;32m     14\u001b[0m sk \u001b[38;5;241m=\u001b[39m browser\u001b[38;5;241m.\u001b[39mfind_element(By\u001b[38;5;241m.\u001b[39mCLASS_NAME, \u001b[38;5;124m\"\u001b[39m\u001b[38;5;124martdeco-button__text\u001b[39m\u001b[38;5;124m\"\u001b[39m)\n\u001b[1;32m---> 15\u001b[0m \u001b[43msk\u001b[49m\u001b[38;5;241;43m.\u001b[39;49m\u001b[43mclick\u001b[49m\u001b[43m(\u001b[49m\u001b[43m)\u001b[49m\n\u001b[0;32m     16\u001b[0m skills \u001b[38;5;241m=\u001b[39m browser\u001b[38;5;241m.\u001b[39mfind_element(By\u001b[38;5;241m.\u001b[39mCLASS_NAME, \u001b[38;5;124m\"\u001b[39m\u001b[38;5;124mjob-details-skill-match-modal__content\u001b[39m\u001b[38;5;124m\"\u001b[39m)\u001b[38;5;241m.\u001b[39mtext\n\u001b[0;32m     17\u001b[0m browser\u001b[38;5;241m.\u001b[39mimplicitly_wait(\u001b[38;5;241m3\u001b[39m)\n",
      "File \u001b[1;32mD:\\bb\\dsbuilder\\scrap\\Lib\\site-packages\\selenium\\webdriver\\remote\\webelement.py:94\u001b[0m, in \u001b[0;36mWebElement.click\u001b[1;34m(self)\u001b[0m\n\u001b[0;32m     92\u001b[0m \u001b[38;5;28;01mdef\u001b[39;00m \u001b[38;5;21mclick\u001b[39m(\u001b[38;5;28mself\u001b[39m) \u001b[38;5;241m-\u001b[39m\u001b[38;5;241m>\u001b[39m \u001b[38;5;28;01mNone\u001b[39;00m:\n\u001b[0;32m     93\u001b[0m \u001b[38;5;250m    \u001b[39m\u001b[38;5;124;03m\"\"\"Clicks the element.\"\"\"\u001b[39;00m\n\u001b[1;32m---> 94\u001b[0m     \u001b[38;5;28;43mself\u001b[39;49m\u001b[38;5;241;43m.\u001b[39;49m\u001b[43m_execute\u001b[49m\u001b[43m(\u001b[49m\u001b[43mCommand\u001b[49m\u001b[38;5;241;43m.\u001b[39;49m\u001b[43mCLICK_ELEMENT\u001b[49m\u001b[43m)\u001b[49m\n",
      "File \u001b[1;32mD:\\bb\\dsbuilder\\scrap\\Lib\\site-packages\\selenium\\webdriver\\remote\\webelement.py:395\u001b[0m, in \u001b[0;36mWebElement._execute\u001b[1;34m(self, command, params)\u001b[0m\n\u001b[0;32m    393\u001b[0m     params \u001b[38;5;241m=\u001b[39m {}\n\u001b[0;32m    394\u001b[0m params[\u001b[38;5;124m\"\u001b[39m\u001b[38;5;124mid\u001b[39m\u001b[38;5;124m\"\u001b[39m] \u001b[38;5;241m=\u001b[39m \u001b[38;5;28mself\u001b[39m\u001b[38;5;241m.\u001b[39m_id\n\u001b[1;32m--> 395\u001b[0m \u001b[38;5;28;01mreturn\u001b[39;00m \u001b[38;5;28;43mself\u001b[39;49m\u001b[38;5;241;43m.\u001b[39;49m\u001b[43m_parent\u001b[49m\u001b[38;5;241;43m.\u001b[39;49m\u001b[43mexecute\u001b[49m\u001b[43m(\u001b[49m\u001b[43mcommand\u001b[49m\u001b[43m,\u001b[49m\u001b[43m \u001b[49m\u001b[43mparams\u001b[49m\u001b[43m)\u001b[49m\n",
      "File \u001b[1;32mD:\\bb\\dsbuilder\\scrap\\Lib\\site-packages\\selenium\\webdriver\\remote\\webdriver.py:348\u001b[0m, in \u001b[0;36mWebDriver.execute\u001b[1;34m(self, driver_command, params)\u001b[0m\n\u001b[0;32m    346\u001b[0m response \u001b[38;5;241m=\u001b[39m \u001b[38;5;28mself\u001b[39m\u001b[38;5;241m.\u001b[39mcommand_executor\u001b[38;5;241m.\u001b[39mexecute(driver_command, params)\n\u001b[0;32m    347\u001b[0m \u001b[38;5;28;01mif\u001b[39;00m response:\n\u001b[1;32m--> 348\u001b[0m     \u001b[38;5;28;43mself\u001b[39;49m\u001b[38;5;241;43m.\u001b[39;49m\u001b[43merror_handler\u001b[49m\u001b[38;5;241;43m.\u001b[39;49m\u001b[43mcheck_response\u001b[49m\u001b[43m(\u001b[49m\u001b[43mresponse\u001b[49m\u001b[43m)\u001b[49m\n\u001b[0;32m    349\u001b[0m     response[\u001b[38;5;124m\"\u001b[39m\u001b[38;5;124mvalue\u001b[39m\u001b[38;5;124m\"\u001b[39m] \u001b[38;5;241m=\u001b[39m \u001b[38;5;28mself\u001b[39m\u001b[38;5;241m.\u001b[39m_unwrap_value(response\u001b[38;5;241m.\u001b[39mget(\u001b[38;5;124m\"\u001b[39m\u001b[38;5;124mvalue\u001b[39m\u001b[38;5;124m\"\u001b[39m, \u001b[38;5;28;01mNone\u001b[39;00m))\n\u001b[0;32m    350\u001b[0m     \u001b[38;5;28;01mreturn\u001b[39;00m response\n",
      "File \u001b[1;32mD:\\bb\\dsbuilder\\scrap\\Lib\\site-packages\\selenium\\webdriver\\remote\\errorhandler.py:229\u001b[0m, in \u001b[0;36mErrorHandler.check_response\u001b[1;34m(self, response)\u001b[0m\n\u001b[0;32m    227\u001b[0m         alert_text \u001b[38;5;241m=\u001b[39m value[\u001b[38;5;124m\"\u001b[39m\u001b[38;5;124malert\u001b[39m\u001b[38;5;124m\"\u001b[39m]\u001b[38;5;241m.\u001b[39mget(\u001b[38;5;124m\"\u001b[39m\u001b[38;5;124mtext\u001b[39m\u001b[38;5;124m\"\u001b[39m)\n\u001b[0;32m    228\u001b[0m     \u001b[38;5;28;01mraise\u001b[39;00m exception_class(message, screen, stacktrace, alert_text)  \u001b[38;5;66;03m# type: ignore[call-arg]  # mypy is not smart enough here\u001b[39;00m\n\u001b[1;32m--> 229\u001b[0m \u001b[38;5;28;01mraise\u001b[39;00m exception_class(message, screen, stacktrace)\n",
      "\u001b[1;31mElementClickInterceptedException\u001b[0m: Message: element click intercepted: Element <span class=\"artdeco-button__text\">...</span> is not clickable at point (96, 24). Other element would receive the click: <input id=\"jobs-search-box-keyword-id-ember144\" class=\"jobs-search-box__text-input jobs-search-box__keyboard-text-input\" autocomplete=\"organization-title\" spellcheck=\"false\" role=\"combobox\" aria-autocomplete=\"list\" aria-label=\"Search by title, skill, or company\" aria-activedescendant=\"\" aria-expanded=\"false\" type=\"text\">\n  (Session info: chrome=120.0.6099.225)\nStacktrace:\n\tGetHandleVerifier [0x00007FF766E32142+3514994]\n\t(No symbol) [0x00007FF766A50CE2]\n\t(No symbol) [0x00007FF7668F76AA]\n\t(No symbol) [0x00007FF7669488F3]\n\t(No symbol) [0x00007FF7669468ED]\n\t(No symbol) [0x00007FF7669440EC]\n\t(No symbol) [0x00007FF766942EA5]\n\t(No symbol) [0x00007FF766936A0F]\n\t(No symbol) [0x00007FF766965FEA]\n\t(No symbol) [0x00007FF7669363B6]\n\t(No symbol) [0x00007FF766966490]\n\t(No symbol) [0x00007FF7669828F6]\n\t(No symbol) [0x00007FF766965D93]\n\t(No symbol) [0x00007FF766934BDC]\n\t(No symbol) [0x00007FF766935C64]\n\tGetHandleVerifier [0x00007FF766E5E16B+3695259]\n\tGetHandleVerifier [0x00007FF766EB6737+4057191]\n\tGetHandleVerifier [0x00007FF766EAE4E3+4023827]\n\tGetHandleVerifier [0x00007FF766B804F9+689705]\n\t(No symbol) [0x00007FF766A5C048]\n\t(No symbol) [0x00007FF766A58044]\n\t(No symbol) [0x00007FF766A581C9]\n\t(No symbol) [0x00007FF766A488C4]\n\tBaseThreadInitThunk [0x00007FFC4DB8257D+29]\n\tRtlUserThreadStart [0x00007FFC4FB8AA58+40]\n"
     ]
    }
   ],
   "source": [
    "c=[]\n",
    "d=[]\n",
    "e=[]\n",
    "h=[]\n",
    "s=0\n",
    "while s<=num:\n",
    "    job=browser.find_elements(By.CLASS_NAME, \"job-card-list__title\")\n",
    "    company=browser.find_elements(By.CLASS_NAME, \"job-card-container__primary-description \")\n",
    "    location=browser.find_elements(By.CLASS_NAME, \"job-card-container__metadata-item\")\n",
    "    card=browser.find_elements(By.CLASS_NAME, \"job-card-container--clickable\")\n",
    "    for i in range(0, len(job)):\n",
    "        card[i].click()\n",
    "        browser.implicitly_wait(3)\n",
    "\n",
    "\n",
    "        h.append(browser.find_element(By.CLASS_NAME, \"jobs-description--reformatted\").text)\n",
    "        print(browser.find_element(By.CLASS_NAME, \"jobs-description--reformatted\").text)\n",
    "        \n",
    "        #print(i.text)\n",
    "        c.append(job[i].text)\n",
    "        d.append(company[i].text)\n",
    "        e.append(location[i].text)\n",
    "    s=s+24\n",
    "    browser.get(f\"https://www.linkedin.com/jobs/collections/recommended/?start={s}\")\n",
    "\n",
    "\n",
    "    \n",
    "    "
   ]
  },
  {
   "cell_type": "code",
   "execution_count": null,
   "id": "7e3695fc-41f8-486d-bed9-1322f83da8c1",
   "metadata": {},
   "outputs": [],
   "source": [
    "print(len(c))\n",
    "print(len(d))\n",
    "print(len(e))\n"
   ]
  },
  {
   "cell_type": "code",
   "execution_count": null,
   "id": "92069c4d-11fa-49c6-bdd6-151d8309b7ff",
   "metadata": {},
   "outputs": [],
   "source": [
    "col = ['Title', 'Company', 'Location', 'Description']\n",
    "\n",
    "df = pd.DataFrame({'title':c, 'company':d , 'location':e, 'descrription': h})"
   ]
  },
  {
   "cell_type": "code",
   "execution_count": null,
   "id": "d5a67b00-188d-4053-af78-bb1360bc323f",
   "metadata": {},
   "outputs": [],
   "source": [
    "df.head()"
   ]
  },
  {
   "cell_type": "code",
   "execution_count": null,
   "id": "57777008-fd7c-4339-8482-04ce0d90ae7b",
   "metadata": {},
   "outputs": [],
   "source": [
    "df.to_csv('jobs.csv')"
   ]
  }
 ],
 "metadata": {
  "kernelspec": {
   "display_name": "Python 3 (ipykernel)",
   "language": "python",
   "name": "python3"
  },
  "language_info": {
   "codemirror_mode": {
    "name": "ipython",
    "version": 3
   },
   "file_extension": ".py",
   "mimetype": "text/x-python",
   "name": "python",
   "nbconvert_exporter": "python",
   "pygments_lexer": "ipython3",
   "version": "3.12.0"
  }
 },
 "nbformat": 4,
 "nbformat_minor": 5
}
